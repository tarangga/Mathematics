{
  "nbformat": 4,
  "nbformat_minor": 0,
  "metadata": {
    "colab": {
      "name": "Sains Manajemen",
      "provenance": [],
      "mount_file_id": "1gd93uQLL-xZkt_u7dNFPdWGgYRP-bWmB",
      "authorship_tag": "ABX9TyMlbIrDrAu5ijVSOsmbbqiA"
    },
    "kernelspec": {
      "name": "python3",
      "display_name": "Python 3"
    }
  },
  "cells": [
    {
      "cell_type": "markdown",
      "metadata": {
        "id": "oTdYER8-WVBm"
      },
      "source": [
        "**Mengimport Library yang diperlukan**"
      ]
    },
    {
      "cell_type": "code",
      "metadata": {
        "id": "c7nL_GLVj8H6"
      },
      "source": [
        "import pandas as pd\n",
        "import numpy as np\n",
        "import matplotlib.pyplot as plt\n",
        "from math import factorial as fact\n",
        "from math import exp\n",
        "import os\n"
      ],
      "execution_count": null,
      "outputs": []
    },
    {
      "cell_type": "code",
      "metadata": {
        "id": "KzGuORoctQtS"
      },
      "source": [
        "def calc_profit(num, sell): #menghitung profit pada tabel di posisi i, j\n",
        "  res = num*2500\n",
        "  dif = sell - num\n",
        "  if dif < 0:\n",
        "    res = res + dif*8500\n",
        "  return res\n",
        "\n",
        "def calc_regret(num, sell): #menghitung regret pada tabel di posisi i, j\n",
        "  return num - calc_profit(num, sell)\n",
        "\n",
        "def poisson(num, var): #menghitung poisson proability pada tabel di posisi i\n",
        "  return (var**num)*exp(-var)/fact(num)"
      ],
      "execution_count": null,
      "outputs": []
    },
    {
      "cell_type": "markdown",
      "metadata": {
        "id": "CLMmYxtZYYYq"
      },
      "source": [
        "Mengambil data dari google drive dan mengubah data menjadi int"
      ]
    },
    {
      "cell_type": "code",
      "metadata": {
        "id": "Xe1L8RneKB4M",
        "colab": {
          "base_uri": "https://localhost:8080/",
          "height": 204
        },
        "outputId": "aa6e498e-6f6e-4ace-ab61-994dfe65af61"
      },
      "source": [
        "data = pd.read_csv('/content/drive/MyDrive/Colab Data/Sains Manajemen/Penjualan Nasi.csv')\n",
        "data.fillna(0, inplace=True)\n",
        "\n",
        "data['Hari'] = data['Hari'].str.strip()\n",
        "for col in data.columns[1:]:\n",
        "  data[col] = data[col].astype(int)\n",
        "data.head()"
      ],
      "execution_count": null,
      "outputs": [
        {
          "output_type": "execute_result",
          "data": {
            "text/html": [
              "<div>\n",
              "<style scoped>\n",
              "    .dataframe tbody tr th:only-of-type {\n",
              "        vertical-align: middle;\n",
              "    }\n",
              "\n",
              "    .dataframe tbody tr th {\n",
              "        vertical-align: top;\n",
              "    }\n",
              "\n",
              "    .dataframe thead th {\n",
              "        text-align: right;\n",
              "    }\n",
              "</style>\n",
              "<table border=\"1\" class=\"dataframe\">\n",
              "  <thead>\n",
              "    <tr style=\"text-align: right;\">\n",
              "      <th></th>\n",
              "      <th>Hari</th>\n",
              "      <th>05.30-06.00</th>\n",
              "      <th>06.00-06.30</th>\n",
              "      <th>06.30-07.00</th>\n",
              "      <th>07.00-07.30</th>\n",
              "      <th>07.30-08.00</th>\n",
              "      <th>08.00-08.30</th>\n",
              "      <th>08.30-09.00</th>\n",
              "      <th>Total</th>\n",
              "    </tr>\n",
              "  </thead>\n",
              "  <tbody>\n",
              "    <tr>\n",
              "      <th>0</th>\n",
              "      <td>0</td>\n",
              "      <td>3</td>\n",
              "      <td>3</td>\n",
              "      <td>6</td>\n",
              "      <td>3</td>\n",
              "      <td>0</td>\n",
              "      <td>0</td>\n",
              "      <td>0</td>\n",
              "      <td>15</td>\n",
              "    </tr>\n",
              "    <tr>\n",
              "      <th>1</th>\n",
              "      <td>1</td>\n",
              "      <td>3</td>\n",
              "      <td>1</td>\n",
              "      <td>4</td>\n",
              "      <td>2</td>\n",
              "      <td>0</td>\n",
              "      <td>0</td>\n",
              "      <td>0</td>\n",
              "      <td>10</td>\n",
              "    </tr>\n",
              "    <tr>\n",
              "      <th>2</th>\n",
              "      <td>2</td>\n",
              "      <td>4</td>\n",
              "      <td>3</td>\n",
              "      <td>5</td>\n",
              "      <td>0</td>\n",
              "      <td>0</td>\n",
              "      <td>0</td>\n",
              "      <td>0</td>\n",
              "      <td>12</td>\n",
              "    </tr>\n",
              "    <tr>\n",
              "      <th>3</th>\n",
              "      <td>3</td>\n",
              "      <td>1</td>\n",
              "      <td>3</td>\n",
              "      <td>4</td>\n",
              "      <td>1</td>\n",
              "      <td>1</td>\n",
              "      <td>0</td>\n",
              "      <td>0</td>\n",
              "      <td>10</td>\n",
              "    </tr>\n",
              "    <tr>\n",
              "      <th>4</th>\n",
              "      <td>4</td>\n",
              "      <td>1</td>\n",
              "      <td>4</td>\n",
              "      <td>2</td>\n",
              "      <td>2</td>\n",
              "      <td>0</td>\n",
              "      <td>0</td>\n",
              "      <td>0</td>\n",
              "      <td>9</td>\n",
              "    </tr>\n",
              "  </tbody>\n",
              "</table>\n",
              "</div>"
            ],
            "text/plain": [
              "   Hari  05.30-06.00  06.00-06.30  ...  08.00-08.30  08.30-09.00  Total\n",
              "0     0            3            3  ...            0            0     15\n",
              "1     1            3            1  ...            0            0     10\n",
              "2     2            4            3  ...            0            0     12\n",
              "3     3            1            3  ...            0            0     10\n",
              "4     4            1            4  ...            0            0      9\n",
              "\n",
              "[5 rows x 9 columns]"
            ]
          },
          "metadata": {
            "tags": []
          },
          "execution_count": 77
        }
      ]
    },
    {
      "cell_type": "markdown",
      "metadata": {
        "id": "r4VlvE_RYp3-"
      },
      "source": [
        "Menghitung table regret, table profit, serta probabilitas poisson dari 1 hingga 50"
      ]
    },
    {
      "cell_type": "code",
      "metadata": {
        "id": "tV7Y8k21CSae"
      },
      "source": [
        "profit_table = {}\n",
        "regret_table = {}\n",
        "prob_table = {}"
      ],
      "execution_count": null,
      "outputs": []
    },
    {
      "cell_type": "code",
      "metadata": {
        "id": "uHgyeXVyCE0G"
      },
      "source": [
        "for col in data.columns[1:-1]:\n",
        "  profit = np.zeros((50, 50))\n",
        "  regret = np.zeros((50, 50))\n",
        "  prob = np.zeros((50))\n",
        "  for i in range(0, 50):\n",
        "    for j in range(0, 50):\n",
        "      profit[i][j] = calc_profit(i, j)\n",
        "      regret[i][j] = calc_regret(i, j)\n",
        "    prob[i] = poisson(i, data[col].var())\n",
        "  profit_table[col] = profit\n",
        "  regret_table[col] = regret\n",
        "  prob_table[col] = prob"
      ],
      "execution_count": null,
      "outputs": []
    },
    {
      "cell_type": "markdown",
      "metadata": {
        "id": "SYbgbeyfY2we"
      },
      "source": [
        "Menentukan min dan max pada setiap waktu(05.00-05.30, ..., 08.30-09.00) "
      ]
    },
    {
      "cell_type": "code",
      "metadata": {
        "id": "rsN2D9XPEsNx"
      },
      "source": [
        "for col in data.columns[1:-1]:\n",
        "  profit_df = pd.DataFrame(profit_table[col])\n",
        "  profit_df['min'] = profit_df.min(axis=1)\n",
        "  profit_df['max'] = profit_df.max(axis=1)\n",
        "  profit_df.to_csv('/content/drive/MyDrive/Colab Data/Sains Manajemen/profit_' + col + '.csv', index=False)\n",
        "\n",
        "  regret_df = pd.DataFrame(regret_table[col])\n",
        "  regret_df['min'] = regret_df.min(axis=1)\n",
        "  regret_df['max'] = regret_df.max(axis=1)\n",
        "  regret_df.to_csv('/content/drive/MyDrive/Colab Data/Sains Manajemen/regret_' + col + '.csv', index=False)"
      ],
      "execution_count": null,
      "outputs": []
    },
    {
      "cell_type": "markdown",
      "metadata": {
        "id": "kBMjf362ZD99"
      },
      "source": [
        "Menghitung profit dengan mengalikan nilai pada table dengan probabilitas yang sesuai dengan posisinya"
      ]
    },
    {
      "cell_type": "code",
      "metadata": {
        "id": "SvhIuZqk9eYu"
      },
      "source": [
        "expec_profit = {}"
      ],
      "execution_count": null,
      "outputs": []
    },
    {
      "cell_type": "code",
      "metadata": {
        "id": "P5teS2erK5ix"
      },
      "source": [
        "for col in data.columns[1:-1]:\n",
        "  prft = np.zeros(50)\n",
        "  for i in range(0, 50):\n",
        "    prft[i] = np.sum(profit_table[col][i]*prob_table[col])\n",
        "  expec_profit[col] = prft\n",
        "\n",
        "pd.DataFrame(expec_profit).to_csv('/content/drive/MyDrive/Colab Data/Sains Manajemen/expectation_profit.csv', index=False)"
      ],
      "execution_count": null,
      "outputs": []
    },
    {
      "cell_type": "markdown",
      "metadata": {
        "id": "xPukw2FYZM52"
      },
      "source": [
        "Expectation Criteria"
      ]
    },
    {
      "cell_type": "code",
      "metadata": {
        "colab": {
          "base_uri": "https://localhost:8080/"
        },
        "id": "IVs3RnWERmch",
        "outputId": "dabcc7e4-dec3-4a36-d43a-a317228230da"
      },
      "source": [
        "max_expec_profit = pd.read_csv('/content/drive/MyDrive/Colab Data/Sains Manajemen/expectation_profit.csv').idxmax()\n",
        "print(max_expec_profit)\n",
        "print('\\nTotal', max_expec_profit.sum())"
      ],
      "execution_count": null,
      "outputs": [
        {
          "output_type": "stream",
          "text": [
            "05.30-06.00    1\n",
            "06.00-06.30    4\n",
            "06.30-07.00    3\n",
            "07.00-07.30    3\n",
            "07.30-08.00    1\n",
            "08.00-08.30    2\n",
            "08.30-09.00    0\n",
            "dtype: int64\n",
            "\n",
            "Total 14\n"
          ],
          "name": "stdout"
        }
      ]
    },
    {
      "cell_type": "markdown",
      "metadata": {
        "id": "c-DVCnWwZSCt"
      },
      "source": [
        "MAXIMIN PROFIT CRITERIA"
      ]
    },
    {
      "cell_type": "code",
      "metadata": {
        "colab": {
          "base_uri": "https://localhost:8080/"
        },
        "id": "ynmAbTWdNEk5",
        "outputId": "a2952174-b6ad-4fbd-cd82-d9e5a091b29b"
      },
      "source": [
        "total = 0\n",
        "\n",
        "for dir in os.listdir('/content/drive/MyDrive/Colab Data/Sains Manajemen')[1:-2]:\n",
        "  if dir[0] == 'p':\n",
        "    df = (pd.read_csv('/content/drive/MyDrive/Colab Data/Sains Manajemen/'+dir))\n",
        "    res = df['min'].idxmax()\n",
        "    print(dir[7:], res)\n",
        "    total = total + res\n",
        "print('\\nTotal', total)"
      ],
      "execution_count": null,
      "outputs": [
        {
          "output_type": "stream",
          "text": [
            "05.30-06.00.csv 0\n",
            "06.00-06.30.csv 0\n",
            "06.30-07.00.csv 0\n",
            "07.00-07.30.csv 0\n",
            "07.30-08.00.csv 0\n",
            "08.00-08.30.csv 0\n",
            "08.30-09.00.csv 0\n",
            "\n",
            "Total 0\n"
          ],
          "name": "stdout"
        }
      ]
    },
    {
      "cell_type": "markdown",
      "metadata": {
        "id": "75gRDxYmZVHj"
      },
      "source": [
        "MAXIMAX PROFIT CRITERIA"
      ]
    },
    {
      "cell_type": "code",
      "metadata": {
        "colab": {
          "base_uri": "https://localhost:8080/"
        },
        "id": "5Q7vsVUfQYzy",
        "outputId": "7131360c-c64e-4371-b35a-ccb647a85144"
      },
      "source": [
        "total = 0\n",
        "\n",
        "for dir in os.listdir('/content/drive/MyDrive/Colab Data/Sains Manajemen')[1:-2]:\n",
        "  if dir[0] == 'p':\n",
        "    df = (pd.read_csv('/content/drive/MyDrive/Colab Data/Sains Manajemen/'+dir))\n",
        "    res = df['max'].idxmax()\n",
        "    print(dir[7:], res)\n",
        "    total = total + res\n",
        "print('\\nTotal', total)"
      ],
      "execution_count": null,
      "outputs": [
        {
          "output_type": "stream",
          "text": [
            "05.30-06.00.csv 49\n",
            "06.00-06.30.csv 49\n",
            "06.30-07.00.csv 49\n",
            "07.00-07.30.csv 49\n",
            "07.30-08.00.csv 49\n",
            "08.00-08.30.csv 49\n",
            "08.30-09.00.csv 49\n",
            "\n",
            "Total 343\n"
          ],
          "name": "stdout"
        }
      ]
    },
    {
      "cell_type": "markdown",
      "metadata": {
        "id": "Ew6VRh84ZYJ8"
      },
      "source": [
        "MINIMAX REGRET CRITERIA"
      ]
    },
    {
      "cell_type": "code",
      "metadata": {
        "colab": {
          "base_uri": "https://localhost:8080/"
        },
        "id": "bqWaYTx6RZPB",
        "outputId": "79477f17-3ea7-4f9c-bee9-42f33e41c6f7"
      },
      "source": [
        "total = 0\n",
        "\n",
        "for dir in os.listdir('/content/drive/MyDrive/Colab Data/Sains Manajemen')[1:-2]:\n",
        "  if dir[0] == 'r':\n",
        "    df = (pd.read_csv('/content/drive/MyDrive/Colab Data/Sains Manajemen/'+dir))\n",
        "    res = df['max'].idxmin()\n",
        "    print(dir[7:], res)\n",
        "    total = total + res\n",
        "print('\\nTotal', total)"
      ],
      "execution_count": null,
      "outputs": [
        {
          "output_type": "stream",
          "text": [
            "05.30-06.00.csv 0\n",
            "06.00-06.30.csv 0\n",
            "06.30-07.00.csv 0\n",
            "07.00-07.30.csv 0\n",
            "07.30-08.00.csv 0\n",
            "08.00-08.30.csv 0\n",
            "08.30-09.00.csv 0\n",
            "\n",
            "Total 0\n"
          ],
          "name": "stdout"
        }
      ]
    },
    {
      "cell_type": "markdown",
      "metadata": {
        "id": "AmShWBBflSB5"
      },
      "source": [
        "FORECASTING"
      ]
    },
    {
      "cell_type": "code",
      "metadata": {
        "id": "YeDe9JXlb9d5"
      },
      "source": [
        "def forecast(f, d, a): #fungsi forecast\n",
        "  return a*d + (1-a)*f\n",
        "\n",
        "def trend(f, pf, pt, b): #menghitung trend\n",
        "  return b*(f - pf) + (1-b)*pt\n",
        "\n",
        "def adjust_forecast(f, pf, d, pt, a, b): #menghitung adjust forecast\n",
        "  return forecast(f, d, a) + trend(f, pf, pt, b)\n",
        "\n",
        "def combine_arr(X, Y): # menggabungkan 2 array\n",
        "  c = []\n",
        "\n",
        "  for x in X:\n",
        "    for y in Y:\n",
        "      c.append([x, y])\n",
        "\n",
        "  return c"
      ],
      "execution_count": null,
      "outputs": []
    },
    {
      "cell_type": "markdown",
      "metadata": {
        "id": "mwnnXHUhliXk"
      },
      "source": [
        "membuat parameter alpha dan beta"
      ]
    },
    {
      "cell_type": "code",
      "metadata": {
        "colab": {
          "base_uri": "https://localhost:8080/",
          "height": 204
        },
        "id": "YZ-Q3cRuc8Ng",
        "outputId": "b73b4849-2cab-47c7-a710-85c6c34bf065"
      },
      "source": [
        "parameter_df = pd.DataFrame(combine_arr(np.linspace(0.0, 1.0, 100), np.linspace(0.0, 1.0, 100)), columns=['alpha', 'beta'])\n",
        "parameter_df.head()"
      ],
      "execution_count": null,
      "outputs": [
        {
          "output_type": "execute_result",
          "data": {
            "text/html": [
              "<div>\n",
              "<style scoped>\n",
              "    .dataframe tbody tr th:only-of-type {\n",
              "        vertical-align: middle;\n",
              "    }\n",
              "\n",
              "    .dataframe tbody tr th {\n",
              "        vertical-align: top;\n",
              "    }\n",
              "\n",
              "    .dataframe thead th {\n",
              "        text-align: right;\n",
              "    }\n",
              "</style>\n",
              "<table border=\"1\" class=\"dataframe\">\n",
              "  <thead>\n",
              "    <tr style=\"text-align: right;\">\n",
              "      <th></th>\n",
              "      <th>alpha</th>\n",
              "      <th>beta</th>\n",
              "    </tr>\n",
              "  </thead>\n",
              "  <tbody>\n",
              "    <tr>\n",
              "      <th>0</th>\n",
              "      <td>0.0</td>\n",
              "      <td>0.000000</td>\n",
              "    </tr>\n",
              "    <tr>\n",
              "      <th>1</th>\n",
              "      <td>0.0</td>\n",
              "      <td>0.010101</td>\n",
              "    </tr>\n",
              "    <tr>\n",
              "      <th>2</th>\n",
              "      <td>0.0</td>\n",
              "      <td>0.020202</td>\n",
              "    </tr>\n",
              "    <tr>\n",
              "      <th>3</th>\n",
              "      <td>0.0</td>\n",
              "      <td>0.030303</td>\n",
              "    </tr>\n",
              "    <tr>\n",
              "      <th>4</th>\n",
              "      <td>0.0</td>\n",
              "      <td>0.040404</td>\n",
              "    </tr>\n",
              "  </tbody>\n",
              "</table>\n",
              "</div>"
            ],
            "text/plain": [
              "   alpha      beta\n",
              "0    0.0  0.000000\n",
              "1    0.0  0.010101\n",
              "2    0.0  0.020202\n",
              "3    0.0  0.030303\n",
              "4    0.0  0.040404"
            ]
          },
          "metadata": {
            "tags": []
          },
          "execution_count": 140
        }
      ]
    },
    {
      "cell_type": "markdown",
      "metadata": {
        "id": "QRs_-XEfllX8"
      },
      "source": [
        "mendapatkan mse dari parameter yang telah dibuat sebelumnya"
      ]
    },
    {
      "cell_type": "code",
      "metadata": {
        "id": "NLHrUizRfjuG"
      },
      "source": [
        "for col in data.columns[1:-1]:\n",
        "  res = []\n",
        "  for par in range(parameter_df.shape[0]):\n",
        "    f_data = [data[col].iloc[0], data[col].iloc[1]]\n",
        "    t_data = [0, 0]\n",
        "    for i in range(2, data.shape[0]):\n",
        "      f_data.append(adjust_forecast(f_data[-1], f_data[-2], data[col].iloc[i-1], t_data[-1],\n",
        "                                    parameter_df['alpha'].iloc[par], parameter_df['beta'].iloc[par]))\n",
        "    res.append(((data[col] - f_data)**2).mean())\n",
        "  parameter_df[col] = res\n",
        "  "
      ],
      "execution_count": null,
      "outputs": []
    },
    {
      "cell_type": "markdown",
      "metadata": {
        "id": "W1SwnS9AlqUU"
      },
      "source": [
        "menyimpan parameter"
      ]
    },
    {
      "cell_type": "code",
      "metadata": {
        "id": "eJu6a6DOiEup"
      },
      "source": [
        "parameter_df.to_csv('/content/drive/MyDrive/Colab Data/Sains Manajemen/forecast_parameter.csv', index=False)"
      ],
      "execution_count": null,
      "outputs": []
    },
    {
      "cell_type": "markdown",
      "metadata": {
        "id": "Y-jsx0DUlsMD"
      },
      "source": [
        "Menetukan parameter yangMSE paling kecil"
      ]
    },
    {
      "cell_type": "code",
      "metadata": {
        "colab": {
          "base_uri": "https://localhost:8080/"
        },
        "id": "Rwq0Jt7Hk9x4",
        "outputId": "da7464ef-08ae-4f89-cb7f-d502958f7a4f"
      },
      "source": [
        "parameter_df.idxmin()[2:]"
      ],
      "execution_count": null,
      "outputs": [
        {
          "output_type": "execute_result",
          "data": {
            "text/plain": [
              "05.30-06.00    1266\n",
              "06.00-06.30     700\n",
              "06.30-07.00    1630\n",
              "07.00-07.30       0\n",
              "07.30-08.00     198\n",
              "08.00-08.30     277\n",
              "08.30-09.00     198\n",
              "dtype: int64"
            ]
          },
          "metadata": {
            "tags": []
          },
          "execution_count": 173
        }
      ]
    },
    {
      "cell_type": "code",
      "metadata": {
        "id": "ZfFJgWH2lW6C"
      },
      "source": [
        ""
      ],
      "execution_count": null,
      "outputs": []
    }
  ]
}