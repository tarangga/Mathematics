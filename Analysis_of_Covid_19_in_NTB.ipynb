{
  "nbformat": 4,
  "nbformat_minor": 0,
  "metadata": {
    "colab": {
      "name": "Analysis of Covid 19 in NTB",
      "provenance": [],
      "include_colab_link": true
    },
    "kernelspec": {
      "display_name": "Python 3",
      "name": "python3"
    }
  },
  "cells": [
    {
      "cell_type": "markdown",
      "metadata": {
        "id": "view-in-github",
        "colab_type": "text"
      },
      "source": [
        "<a href=\"https://colab.research.google.com/github/tarangga/Mathematics/blob/main/Analysis_of_Covid_19_in_NTB.ipynb\" target=\"_parent\"><img src=\"https://colab.research.google.com/assets/colab-badge.svg\" alt=\"Open In Colab\"/></a>"
      ]
    },
    {
      "cell_type": "code",
      "metadata": {
        "id": "h2DFnOhIWzOG"
      },
      "source": [
        "import pandas as pd\n",
        "import numpy as np\n",
        "import matplotlib.pyplot as plt"
      ],
      "execution_count": null,
      "outputs": []
    },
    {
      "cell_type": "code",
      "metadata": {
        "id": "VW3EcCFKmGFL"
      },
      "source": [
        "covid_mingguan = pd.read_csv('/content/COVID NTB - Data per minggu (2).csv').drop(columns=['index'])\n",
        "for col in covid_mingguan.columns:\n",
        "  covid_mingguan[col] = covid_mingguan[col].astype(int)\n",
        "\n",
        "pertumbuhan_mingguan = (covid_mingguan[:-1] - covid_mingguan[1:].reset_index()).drop(columns=['index'])\n",
        "minggu_0 = covid_mingguan.iloc[0]"
      ],
      "execution_count": null,
      "outputs": []
    },
    {
      "cell_type": "markdown",
      "metadata": {
        "id": "tC7cg6dRkwp-"
      },
      "source": [
        "**PARAMETER**"
      ]
    },
    {
      "cell_type": "code",
      "metadata": {
        "id": "daIuECs0lqqt"
      },
      "source": [
        "population = 5125622\n",
        "exposed = minggu_0['suspek_jumlah'] # 10105\n",
        "infective = minggu_0['konfirmasi_jumlah'] # 2315\n",
        "quarantine = minggu_0['konfirmasi_isolasi'] # 748\n",
        "recovery = minggu_0['konfirmasi_sembuh'] # 1439\n",
        "suspect = population - exposed - infective - recovery \n",
        "delta = 0.0\n",
        "miu = (pertumbuhan_mingguan['konfirmasi_meninggal']/covid_mingguan['konfirmasi_isolasi'][1:].reset_index(drop=True)).sum()/pertumbuhan_mingguan.shape[0] # 0.014946448917251071 -- rata-rata mingguan per minggu\n",
        "\n",
        "alpha = (pertumbuhan_mingguan['konfirmasi_jumlah']/population).sum()/pertumbuhan_mingguan.shape[0] # 2.768e-05 -- transmisi penyebaran per minggu\n",
        "beta = (pertumbuhan_mingguan['konfirmasi_jumlah']/(covid_mingguan['suspek_probable_jumlah'] + covid_mingguan['suspek_isolasi'])[1:].reset_index(drop=True)).sum()/pertumbuhan_mingguan.shape[0] # 0.2538697624457402\n",
        "theta = 1 # -26.5\n",
        "p = 1/14 # waktu karantina 14 hari\n",
        "rho = (pertumbuhan_mingguan['konfirmasi_sembuh']/covid_mingguan['konfirmasi_isolasi'][1:].reset_index(drop=True)).sum()/pertumbuhan_mingguan.shape[0] # 0.2824015899992167 rata rata sembuh per minggu\n"
      ],
      "execution_count": null,
      "outputs": []
    },
    {
      "cell_type": "code",
      "metadata": {
        "id": "sHOriCCOm08-",
        "colab": {
          "base_uri": "https://localhost:8080/",
          "height": 34
        },
        "outputId": "cc8d62de-ee48-4aa6-b0e3-f1220977d61e"
      },
      "source": [
        "suspect = population - exposed - infective - recovery \n",
        "rho"
      ],
      "execution_count": null,
      "outputs": [
        {
          "output_type": "execute_result",
          "data": {
            "text/plain": [
              "0.2824015899992167"
            ]
          },
          "metadata": {
            "tags": []
          },
          "execution_count": 54
        }
      ]
    },
    {
      "cell_type": "markdown",
      "metadata": {
        "id": "79ey9KDB1tP-"
      },
      "source": [
        "**PERSAMAANNYA MULAI DARI SINI**"
      ]
    },
    {
      "cell_type": "code",
      "metadata": {
        "id": "SXKUN3d6NAK0"
      },
      "source": [
        "d = 0.0001\n",
        "index = np.arange(start = 0, stop = 100, step = d)\n",
        "\n",
        "def predict_suspect(t):\n",
        "  change = delta - alpha*(S[-1]/population)*I[-1] - miu*S[-1]    \n",
        "  return change*d + S[-1]\n",
        "\n",
        "def predict_exposed(t):\n",
        "  change = alpha*(S[-2]/population)*(I[-1]) - beta*p*E[-1] - miu*E[-1]\n",
        "  return change*d + E[-1]\n",
        "\n",
        "def predict_infective(t):\n",
        "  change = beta*p*E[-2] - theta*I[-1] - miu*I[-1]\n",
        "  return change*d + I[-1]\n",
        "\n",
        "def predict_qurantine(t):\n",
        "  change = theta*I[-2] - rho*Q[-1] - miu*Q[-1]\n",
        "  return change*d + Q[-1]\n",
        "\n",
        "def predict_recovery(t):\n",
        "  change = rho*Q[-2] \n",
        "  return change*d + R[-1]\n",
        "\n"
      ],
      "execution_count": null,
      "outputs": []
    },
    {
      "cell_type": "code",
      "metadata": {
        "id": "vUglJGLuWGcD"
      },
      "source": [
        "S = [suspect]\n",
        "E = [exposed]\n",
        "I = [infective]\n",
        "Q = [quarantine]\n",
        "R = [recovery]\n",
        "\n",
        "for i in index[1:]:\n",
        "  S.append(predict_suspect(i))\n",
        "  E.append(predict_exposed(i))\n",
        "  I.append(predict_infective(i))\n",
        "  Q.append(predict_qurantine(i))\n",
        "  R.append(predict_recovery(i))\n",
        "\n",
        "\n",
        "prediction = pd.DataFrame()\n",
        "prediction['index'] = index\n",
        "prediction.set_index('index')\n",
        "prediction['S'] = S\n",
        "prediction['E'] = E\n",
        "prediction['I'] = I\n",
        "prediction['Q'] = Q\n",
        "prediction['R'] = R"
      ],
      "execution_count": null,
      "outputs": []
    },
    {
      "cell_type": "code",
      "metadata": {
        "id": "zTY4IgsVcEfi",
        "colab": {
          "base_uri": "https://localhost:8080/",
          "height": 419
        },
        "outputId": "6c382653-fe4f-4fef-ca83-5b044ba68a9b"
      },
      "source": [
        "week_prediction = prediction.iloc[[int(i/d) for i in range(100)]].rename({'index' : 'week'})\n",
        "pd.set_option('display.float_format', '{:.2f}'.format)\n",
        "for col in week_prediction.columns:\n",
        "  week_prediction[col] = week_prediction[col].astype(int)\n",
        "week_prediction.rename(columns= {'index' : 'week'})"
      ],
      "execution_count": null,
      "outputs": [
        {
          "output_type": "execute_result",
          "data": {
            "text/html": [
              "<div>\n",
              "<style scoped>\n",
              "    .dataframe tbody tr th:only-of-type {\n",
              "        vertical-align: middle;\n",
              "    }\n",
              "\n",
              "    .dataframe tbody tr th {\n",
              "        vertical-align: top;\n",
              "    }\n",
              "\n",
              "    .dataframe thead th {\n",
              "        text-align: right;\n",
              "    }\n",
              "</style>\n",
              "<table border=\"1\" class=\"dataframe\">\n",
              "  <thead>\n",
              "    <tr style=\"text-align: right;\">\n",
              "      <th></th>\n",
              "      <th>week</th>\n",
              "      <th>S</th>\n",
              "      <th>E</th>\n",
              "      <th>I</th>\n",
              "      <th>Q</th>\n",
              "      <th>R</th>\n",
              "    </tr>\n",
              "  </thead>\n",
              "  <tbody>\n",
              "    <tr>\n",
              "      <th>0</th>\n",
              "      <td>0</td>\n",
              "      <td>5106868</td>\n",
              "      <td>12048</td>\n",
              "      <td>3699</td>\n",
              "      <td>483</td>\n",
              "      <td>3007</td>\n",
              "    </tr>\n",
              "    <tr>\n",
              "      <th>10000</th>\n",
              "      <td>1</td>\n",
              "      <td>5031105</td>\n",
              "      <td>11656</td>\n",
              "      <td>1475</td>\n",
              "      <td>2390</td>\n",
              "      <td>3477</td>\n",
              "    </tr>\n",
              "    <tr>\n",
              "      <th>20000</th>\n",
              "      <td>2</td>\n",
              "      <td>4956467</td>\n",
              "      <td>11276</td>\n",
              "      <td>664</td>\n",
              "      <td>2626</td>\n",
              "      <td>4205</td>\n",
              "    </tr>\n",
              "    <tr>\n",
              "      <th>30000</th>\n",
              "      <td>3</td>\n",
              "      <td>4882937</td>\n",
              "      <td>10909</td>\n",
              "      <td>366</td>\n",
              "      <td>2370</td>\n",
              "      <td>4916</td>\n",
              "    </tr>\n",
              "    <tr>\n",
              "      <th>40000</th>\n",
              "      <td>4</td>\n",
              "      <td>4810497</td>\n",
              "      <td>10554</td>\n",
              "      <td>254</td>\n",
              "      <td>2019</td>\n",
              "      <td>5536</td>\n",
              "    </tr>\n",
              "    <tr>\n",
              "      <th>...</th>\n",
              "      <td>...</td>\n",
              "      <td>...</td>\n",
              "      <td>...</td>\n",
              "      <td>...</td>\n",
              "      <td>...</td>\n",
              "      <td>...</td>\n",
              "    </tr>\n",
              "    <tr>\n",
              "      <th>950000</th>\n",
              "      <td>95</td>\n",
              "      <td>1234508</td>\n",
              "      <td>520</td>\n",
              "      <td>9</td>\n",
              "      <td>36</td>\n",
              "      <td>12796</td>\n",
              "    </tr>\n",
              "    <tr>\n",
              "      <th>960000</th>\n",
              "      <td>96</td>\n",
              "      <td>1216193</td>\n",
              "      <td>503</td>\n",
              "      <td>9</td>\n",
              "      <td>35</td>\n",
              "      <td>12806</td>\n",
              "    </tr>\n",
              "    <tr>\n",
              "      <th>970000</th>\n",
              "      <td>97</td>\n",
              "      <td>1198151</td>\n",
              "      <td>486</td>\n",
              "      <td>8</td>\n",
              "      <td>34</td>\n",
              "      <td>12816</td>\n",
              "    </tr>\n",
              "    <tr>\n",
              "      <th>980000</th>\n",
              "      <td>98</td>\n",
              "      <td>1180376</td>\n",
              "      <td>470</td>\n",
              "      <td>8</td>\n",
              "      <td>32</td>\n",
              "      <td>12826</td>\n",
              "    </tr>\n",
              "    <tr>\n",
              "      <th>990000</th>\n",
              "      <td>99</td>\n",
              "      <td>1162864</td>\n",
              "      <td>455</td>\n",
              "      <td>8</td>\n",
              "      <td>31</td>\n",
              "      <td>12835</td>\n",
              "    </tr>\n",
              "  </tbody>\n",
              "</table>\n",
              "<p>100 rows × 6 columns</p>\n",
              "</div>"
            ],
            "text/plain": [
              "        week        S      E     I     Q      R\n",
              "0          0  5106868  12048  3699   483   3007\n",
              "10000      1  5031105  11656  1475  2390   3477\n",
              "20000      2  4956467  11276   664  2626   4205\n",
              "30000      3  4882937  10909   366  2370   4916\n",
              "40000      4  4810497  10554   254  2019   5536\n",
              "...      ...      ...    ...   ...   ...    ...\n",
              "950000    95  1234508    520     9    36  12796\n",
              "960000    96  1216193    503     9    35  12806\n",
              "970000    97  1198151    486     8    34  12816\n",
              "980000    98  1180376    470     8    32  12826\n",
              "990000    99  1162864    455     8    31  12835\n",
              "\n",
              "[100 rows x 6 columns]"
            ]
          },
          "metadata": {
            "tags": []
          },
          "execution_count": 63
        }
      ]
    },
    {
      "cell_type": "code",
      "metadata": {
        "id": "ouIMddstomQj"
      },
      "source": [
        ""
      ],
      "execution_count": null,
      "outputs": []
    },
    {
      "cell_type": "code",
      "metadata": {
        "id": "klrtbE9uZZuU",
        "colab": {
          "base_uri": "https://localhost:8080/",
          "height": 297
        },
        "outputId": "888b294d-65a8-43e0-f2dc-2c519ff91409"
      },
      "source": [
        "import matplotlib.pyplot as plt\n",
        "fig, ax = plt.subplots(2, 3)\n",
        "ax[0][0].plot(index, prediction['E'])\n",
        "ax[0][0].set_title('E')\n",
        "ax[0][1].plot(index, prediction['I'] )\n",
        "ax[0][1].set_title('I')\n",
        "ax[0][2].plot(index, prediction['S'] )\n",
        "ax[0][2].set_title('S')\n",
        "ax[1][0].plot(index, prediction['Q'] )\n",
        "ax[1][0].set_title('Q')\n",
        "ax[1][1].plot(index, prediction['R'] )\n",
        "ax[1][1].set_title('R')\n",
        "ax[1][2].axis('off')\n",
        "fig.tight_layout()\n",
        "plt.show()\n"
      ],
      "execution_count": null,
      "outputs": [
        {
          "output_type": "display_data",
          "data": {
            "image/png": "[encoded data removed]",
            "text/plain": [
              "<Figure size 432x288 with 6 Axes>"
            ]
          },
          "metadata": {
            "tags": [],
            "needs_background": "light"
          }
        }
      ]
    },
    {
      "cell_type": "code",
      "metadata": {
        "id": "J5Z-VL07osw6",
        "colab": {
          "base_uri": "https://localhost:8080/",
          "height": 265
        },
        "outputId": "32b3458b-4ea1-4e16-fd47-3eef0eefb429"
      },
      "source": [
        "plt.plot(index, prediction['R'])\n",
        "plt.show()"
      ],
      "execution_count": null,
      "outputs": [
        {
          "output_type": "display_data",
          "data": {
            "image/png": "[encoded data removed]",
            "text/plain": [
              "<Figure size 432x288 with 1 Axes>"
            ]
          },
          "metadata": {
            "tags": [],
            "needs_background": "light"
          }
        }
      ]
    }
  ]
}