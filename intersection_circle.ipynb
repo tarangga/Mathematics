{
  "nbformat": 4,
  "nbformat_minor": 0,
  "metadata": {
    "colab": {
      "name": "intersection_circle",
      "provenance": [],
      "authorship_tag": "ABX9TyPv1x0Pgzpjyf+rPpnaWUZw",
      "include_colab_link": true
    },
    "kernelspec": {
      "name": "python3",
      "display_name": "Python 3"
    }
  },
  "cells": [
    {
      "cell_type": "markdown",
      "metadata": {
        "id": "view-in-github",
        "colab_type": "text"
      },
      "source": [
        "<a href=\"https://colab.research.google.com/github/tarangga/Mathematics/blob/main/intersection_circle.ipynb\" target=\"_parent\"><img src=\"https://colab.research.google.com/assets/colab-badge.svg\" alt=\"Open In Colab\"/></a>"
      ]
    },
    {
      "cell_type": "code",
      "metadata": {
        "id": "OQtR1y7ysMVP",
        "colab": {
          "base_uri": "https://localhost:8080/",
          "height": 34
        },
        "outputId": "d88b8d39-d687-4b49-8097-71f5d7e24072"
      },
      "source": [
        "from math import sin, cos, pi, sqrt\n",
        "\n",
        "def circle_location(in_, px, py, r0, r1, th):\n",
        "  if(in_): r = r0/2.0 + r1/2.0\n",
        "  else: r = r0/2.0 - r1/2.0\n",
        "  h = r*sin(th)\n",
        "  l = r*cos(th)\n",
        "  qx = px + l\n",
        "  qy = py - h\n",
        "  print(\"location : (%f, %f)\" %(qx, qy))\n",
        "\n",
        "\n",
        "circle_location(True, 2054.021, 1480.629, 188.867, 188.867, pi/6)"
      ],
      "execution_count": null,
      "outputs": [
        {
          "output_type": "stream",
          "text": [
            "location : (2217.584620, 1386.195500)\n"
          ],
          "name": "stdout"
        }
      ]
    }
  ]
}